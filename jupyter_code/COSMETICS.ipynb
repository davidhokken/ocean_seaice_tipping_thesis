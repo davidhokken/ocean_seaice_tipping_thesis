{
 "cells": [
  {
   "cell_type": "code",
   "execution_count": 1,
   "id": "cbbc9e62",
   "metadata": {},
   "outputs": [],
   "source": [
    "import matplotlib as mpl\n",
    "import matplotlib.pyplot as plt"
   ]
  },
  {
   "cell_type": "code",
   "execution_count": 2,
   "id": "6a52b1b7",
   "metadata": {},
   "outputs": [],
   "source": [
    "plt.rc('font',**{'family':'sans-serif', 'sans-serif':['Arial'], 'size':14})\n",
    "mpl.rcParams['axes.spines.right'] = False\n",
    "mpl.rcParams['axes.spines.top'] = False\n",
    "mpl.rcParams['xtick.major.size'] = 7\n",
    "mpl.rcParams['ytick.major.size'] = 7\n",
    "mpl.rcParams['xtick.minor.visible'] = True\n",
    "mpl.rcParams['ytick.minor.visible'] = True\n",
    "mpl.rcParams['axes.xmargin'] = 0.03\n",
    "mpl.rcParams['axes.ymargin'] = 0.03\n",
    "mpl.rcParams['axes.unicode_minus'] = False\n",
    "plt.rcParams['figure.constrained_layout.use'] = True"
   ]
  },
  {
   "cell_type": "code",
   "execution_count": null,
   "id": "93faf57c",
   "metadata": {},
   "outputs": [],
   "source": []
  }
 ],
 "metadata": {
  "kernelspec": {
   "display_name": "Python 3",
   "language": "python",
   "name": "python3"
  },
  "language_info": {
   "codemirror_mode": {
    "name": "ipython",
    "version": 3
   },
   "file_extension": ".py",
   "mimetype": "text/x-python",
   "name": "python",
   "nbconvert_exporter": "python",
   "pygments_lexer": "ipython3",
   "version": "3.8.8"
  }
 },
 "nbformat": 4,
 "nbformat_minor": 5
}
